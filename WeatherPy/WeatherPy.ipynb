{
 "cells": [
  {
   "cell_type": "markdown",
   "metadata": {},
   "source": [
    "# WeatherPy\n",
    "----\n",
    "\n",
    "#### Note\n",
    "* Instructions have been included for each segment. You do not have to follow them exactly, but they are included to help you think through the steps."
   ]
  },
  {
   "cell_type": "markdown",
   "metadata": {},
   "source": [
    "Analysis: \n",
    "    Observation 1: There is an apparent relationship between Latitude and Max temprature.\n",
    "    Observation 2: Wind speed has no relationship with latitude.\n",
    "    Observation 3: cloudiness has no relationship with latitude."
   ]
  },
  {
   "cell_type": "code",
   "execution_count": 1,
   "metadata": {
    "scrolled": true
   },
   "outputs": [],
   "source": [
    "# Dependencies and Setup\n",
    "import matplotlib.pyplot as plt\n",
    "import pandas as pd\n",
    "import numpy as np\n",
    "import requests\n",
    "import time\n",
    "from scipy.stats import linregress\n",
    "\n",
    "# Import API key\n",
    "from api_keys import weather_api_key\n",
    "\n",
    "# Incorporated citipy to determine city based on latitude and longitude\n",
    "from citipy import citipy\n",
    "\n",
    "# Output File (CSV)\n",
    "output_data_file = \"../output_data/cities.csv\"\n",
    "\n",
    "# Range of latitudes and longitudes\n",
    "lat_range = (-90, 90)\n",
    "lng_range = (-180, 180)"
   ]
  },
  {
   "cell_type": "markdown",
   "metadata": {},
   "source": [
    "## Generate Cities List"
   ]
  },
  {
   "cell_type": "code",
   "execution_count": 2,
   "metadata": {},
   "outputs": [
    {
     "data": {
      "text/plain": [
       "603"
      ]
     },
     "execution_count": 2,
     "metadata": {},
     "output_type": "execute_result"
    }
   ],
   "source": [
    "# List for holding lat_lngs and cities\n",
    "lat_lngs = []\n",
    "cities = []\n",
    "\n",
    "# Create a set of random lat and lng combinations\n",
    "lats = np.random.uniform(lat_range[0], lat_range[1], size=1500)\n",
    "lngs = np.random.uniform(lng_range[0], lng_range[1], size=1500)\n",
    "lat_lngs = zip(lats, lngs)\n",
    "\n",
    "# Identify nearest city for each lat, lng combination\n",
    "for lat_lng in lat_lngs:\n",
    "    city = citipy.nearest_city(lat_lng[0], lat_lng[1]).city_name\n",
    "    \n",
    "    # If the city is unique, then add it to a our cities list\n",
    "    if city not in cities:\n",
    "        cities.append(city)\n",
    "\n",
    "# Print the city count to confirm sufficient count\n",
    "len(cities)"
   ]
  },
  {
   "cell_type": "markdown",
   "metadata": {},
   "source": [
    "### Perform API Calls\n",
    "* Perform a weather check on each city using a series of successive API calls.\n",
    "* Include a print log of each city as it'sbeing processed (with the city number and city name).\n"
   ]
  },
  {
   "cell_type": "code",
   "execution_count": 3,
   "metadata": {
    "scrolled": true
   },
   "outputs": [
    {
     "name": "stdout",
     "output_type": "stream",
     "text": [
      "Processing Record 1 of Set 1 | touros\n",
      "Processing Record 2 of Set 1 | hambantota\n",
      "Processing Record 3 of Set 1 | berlevag\n",
      "Processing Record 4 of Set 1 | acajutla\n",
      "Processing Record 5 of Set 1 | port alfred\n",
      "Processing Record 6 of Set 1 | grand gaube\n",
      "Processing Record 7 of Set 1 | codrington\n",
      "Processing Record 8 of Set 1 | odienne\n",
      "Processing Record 9 of Set 1 | isla mujeres\n",
      "Processing Record 10 of Set 1 | carnarvon\n",
      "City not found. Skipping...\n",
      "City not found. Skipping...\n",
      "Processing Record 11 of Set 1 | mataura\n",
      "Processing Record 12 of Set 1 | dikson\n",
      "Processing Record 13 of Set 1 | terney\n",
      "Processing Record 14 of Set 1 | noyabrsk\n",
      "Processing Record 15 of Set 1 | albany\n",
      "Processing Record 16 of Set 1 | constitucion\n",
      "City not found. Skipping...\n",
      "Processing Record 17 of Set 1 | bagdarin\n",
      "Processing Record 18 of Set 1 | hermanus\n",
      "Processing Record 19 of Set 1 | san carlos de bariloche\n",
      "City not found. Skipping...\n",
      "Processing Record 20 of Set 1 | tuktoyaktuk\n",
      "Processing Record 21 of Set 1 | stavropol\n",
      "Processing Record 22 of Set 1 | antalaha\n",
      "Processing Record 23 of Set 1 | kapaa\n",
      "Processing Record 24 of Set 1 | karmaskaly\n",
      "Processing Record 25 of Set 1 | provideniya\n",
      "Processing Record 26 of Set 1 | bluff\n",
      "Processing Record 27 of Set 1 | hobart\n",
      "Processing Record 28 of Set 1 | northam\n",
      "Processing Record 29 of Set 1 | sabzevar\n",
      "Processing Record 30 of Set 1 | punta arenas\n",
      "Processing Record 31 of Set 1 | rikitea\n",
      "Processing Record 32 of Set 1 | busselton\n",
      "City not found. Skipping...\n",
      "City not found. Skipping...\n",
      "Processing Record 33 of Set 1 | bredasdorp\n",
      "Processing Record 34 of Set 1 | dire dawa\n",
      "Processing Record 35 of Set 1 | chuy\n",
      "Processing Record 36 of Set 1 | atuona\n",
      "Processing Record 37 of Set 1 | jamestown\n",
      "Processing Record 38 of Set 1 | nantucket\n",
      "Processing Record 39 of Set 1 | fuengirola\n",
      "Processing Record 40 of Set 1 | sarakhs\n",
      "Processing Record 41 of Set 1 | longyearbyen\n",
      "Processing Record 42 of Set 1 | kostomuksha\n",
      "Processing Record 43 of Set 1 | esperance\n",
      "Processing Record 44 of Set 1 | georgetown\n",
      "Processing Record 45 of Set 1 | puerto ayora\n",
      "Processing Record 46 of Set 1 | beisfjord\n",
      "Processing Record 47 of Set 1 | chabahar\n",
      "Processing Record 48 of Set 1 | cape town\n",
      "Processing Record 49 of Set 1 | hervey bay\n",
      "Processing Record 1 of Set 2 | qaanaaq\n",
      "Processing Record 2 of Set 2 | ginda\n",
      "Processing Record 3 of Set 2 | vaini\n",
      "Processing Record 4 of Set 2 | maryborough\n",
      "Processing Record 5 of Set 2 | qaqortoq\n",
      "Processing Record 6 of Set 2 | vuktyl\n",
      "Processing Record 7 of Set 2 | upernavik\n",
      "Processing Record 8 of Set 2 | huarmey\n",
      "Processing Record 9 of Set 2 | ushuaia\n",
      "Processing Record 10 of Set 2 | nianzishan\n",
      "Processing Record 11 of Set 2 | avarua\n",
      "Processing Record 12 of Set 2 | tasiilaq\n",
      "City not found. Skipping...\n",
      "Processing Record 13 of Set 2 | hilo\n",
      "Processing Record 14 of Set 2 | pisco\n",
      "Processing Record 15 of Set 2 | bubaque\n",
      "Processing Record 16 of Set 2 | ust-nera\n",
      "Processing Record 17 of Set 2 | cincu\n",
      "Processing Record 18 of Set 2 | souillac\n",
      "Processing Record 19 of Set 2 | bairiki\n",
      "Processing Record 20 of Set 2 | goderich\n",
      "Processing Record 21 of Set 2 | vernon\n",
      "Processing Record 22 of Set 2 | opuwo\n",
      "Processing Record 23 of Set 2 | mitchell\n",
      "Processing Record 24 of Set 2 | srednekolymsk\n",
      "City not found. Skipping...\n",
      "Processing Record 25 of Set 2 | kaili\n",
      "Processing Record 26 of Set 2 | kirakira\n",
      "Processing Record 27 of Set 2 | gat\n",
      "Processing Record 28 of Set 2 | asfi\n",
      "Processing Record 29 of Set 2 | solnechnyy\n",
      "Processing Record 30 of Set 2 | mys shmidta\n",
      "Processing Record 31 of Set 2 | binghamton\n",
      "Processing Record 32 of Set 2 | lorengau\n",
      "Processing Record 33 of Set 2 | salinas\n",
      "Processing Record 34 of Set 2 | tefe\n",
      "Processing Record 35 of Set 2 | saskylakh\n",
      "Processing Record 36 of Set 2 | lagoa\n",
      "City not found. Skipping...\n",
      "Processing Record 37 of Set 2 | barrow\n",
      "Processing Record 38 of Set 2 | new norfolk\n",
      "Processing Record 39 of Set 2 | makakilo city\n",
      "City not found. Skipping...\n",
      "Processing Record 40 of Set 2 | hithadhoo\n",
      "City not found. Skipping...\n",
      "Processing Record 41 of Set 2 | shahrud\n",
      "City not found. Skipping...\n",
      "Processing Record 42 of Set 2 | pringsewu\n",
      "Processing Record 43 of Set 2 | yumen\n",
      "City not found. Skipping...\n",
      "Processing Record 44 of Set 2 | college\n",
      "Processing Record 45 of Set 2 | vestmannaeyjar\n",
      "Processing Record 46 of Set 2 | nsanje\n",
      "Processing Record 47 of Set 2 | east london\n",
      "Processing Record 48 of Set 2 | kavieng\n",
      "Processing Record 49 of Set 2 | sinnamary\n",
      "Processing Record 1 of Set 3 | vao\n",
      "Processing Record 2 of Set 3 | sur\n",
      "Processing Record 3 of Set 3 | lompoc\n",
      "Processing Record 4 of Set 3 | fortuna\n",
      "Processing Record 5 of Set 3 | fuling\n",
      "Processing Record 6 of Set 3 | san rafael\n",
      "Processing Record 7 of Set 3 | port lincoln\n",
      "Processing Record 8 of Set 3 | laguna\n",
      "Processing Record 9 of Set 3 | rundu\n",
      "Processing Record 10 of Set 3 | airai\n",
      "Processing Record 11 of Set 3 | hay river\n",
      "Processing Record 12 of Set 3 | darnah\n",
      "Processing Record 13 of Set 3 | clyde river\n",
      "Processing Record 14 of Set 3 | karratha\n",
      "Processing Record 15 of Set 3 | kholtoson\n",
      "Processing Record 16 of Set 3 | fairbanks\n",
      "Processing Record 17 of Set 3 | jiazi\n",
      "Processing Record 18 of Set 3 | pangnirtung\n",
      "Processing Record 19 of Set 3 | mapiri\n",
      "Processing Record 20 of Set 3 | ribeira grande\n",
      "Processing Record 21 of Set 3 | gazanjyk\n",
      "Processing Record 22 of Set 3 | nanortalik\n",
      "City not found. Skipping...\n",
      "City not found. Skipping...\n",
      "Processing Record 23 of Set 3 | lodwar\n",
      "Processing Record 24 of Set 3 | dmitriyevka\n",
      "City not found. Skipping...\n",
      "Processing Record 25 of Set 3 | nanakuli\n",
      "Processing Record 26 of Set 3 | xuanhua\n",
      "Processing Record 27 of Set 3 | kodiak\n",
      "Processing Record 28 of Set 3 | destin\n",
      "Processing Record 29 of Set 3 | tupik\n",
      "Processing Record 30 of Set 3 | husavik\n",
      "Processing Record 31 of Set 3 | russell\n",
      "City not found. Skipping...\n",
      "Processing Record 32 of Set 3 | kasongo\n",
      "Processing Record 33 of Set 3 | grand river south east\n",
      "Processing Record 34 of Set 3 | moctezuma\n",
      "Processing Record 35 of Set 3 | lebu\n",
      "Processing Record 36 of Set 3 | birjand\n",
      "Processing Record 37 of Set 3 | barcelona\n",
      "City not found. Skipping...\n",
      "Processing Record 38 of Set 3 | aromashevo\n",
      "Processing Record 39 of Set 3 | talnakh\n",
      "Processing Record 40 of Set 3 | pevek\n",
      "Processing Record 41 of Set 3 | thompson\n",
      "Processing Record 42 of Set 3 | itoman\n",
      "Processing Record 43 of Set 3 | camabatela\n",
      "Processing Record 44 of Set 3 | foix\n",
      "Processing Record 45 of Set 3 | liverpool\n",
      "Processing Record 46 of Set 3 | beloha\n",
      "Processing Record 47 of Set 3 | cabo san lucas\n",
      "Processing Record 48 of Set 3 | port elizabeth\n",
      "Processing Record 49 of Set 3 | flinders\n",
      "City not found. Skipping...\n",
      "Processing Record 1 of Set 4 | yellowknife\n",
      "Processing Record 2 of Set 4 | ziniare\n",
      "Processing Record 3 of Set 4 | grand centre\n",
      "Processing Record 4 of Set 4 | chalus\n",
      "Processing Record 5 of Set 4 | leningradskiy\n",
      "Processing Record 6 of Set 4 | edd\n",
      "Processing Record 7 of Set 4 | mar del plata\n",
      "Processing Record 8 of Set 4 | baykit\n",
      "Processing Record 9 of Set 4 | bengkulu\n",
      "Processing Record 10 of Set 4 | sagunto\n",
      "Processing Record 11 of Set 4 | mackenzie\n",
      "Processing Record 12 of Set 4 | saint-philippe\n",
      "Processing Record 13 of Set 4 | roebourne\n",
      "Processing Record 14 of Set 4 | estevan\n",
      "Processing Record 15 of Set 4 | loandjili\n",
      "Processing Record 16 of Set 4 | aksu\n",
      "Processing Record 17 of Set 4 | ponta delgada\n",
      "Processing Record 18 of Set 4 | havelock\n",
      "Processing Record 19 of Set 4 | oeiras\n",
      "Processing Record 20 of Set 4 | alofi\n",
      "Processing Record 21 of Set 4 | gemena\n",
      "Processing Record 22 of Set 4 | svetlaya\n",
      "Processing Record 23 of Set 4 | anuradhapura\n",
      "Processing Record 24 of Set 4 | shache\n",
      "Processing Record 25 of Set 4 | ixtapa\n",
      "City not found. Skipping...\n",
      "Processing Record 26 of Set 4 | khonsa\n",
      "Processing Record 27 of Set 4 | muros\n",
      "Processing Record 28 of Set 4 | vanimo\n",
      "Processing Record 29 of Set 4 | bundaberg\n",
      "Processing Record 30 of Set 4 | puerto narino\n",
      "Processing Record 31 of Set 4 | athabasca\n",
      "Processing Record 32 of Set 4 | hasaki\n",
      "Processing Record 33 of Set 4 | kaitangata\n",
      "Processing Record 34 of Set 4 | khatanga\n",
      "Processing Record 35 of Set 4 | hatillo\n",
      "Processing Record 36 of Set 4 | palmer\n",
      "City not found. Skipping...\n",
      "Processing Record 37 of Set 4 | mahebourg\n",
      "Processing Record 38 of Set 4 | vila velha\n",
      "Processing Record 39 of Set 4 | borovskoy\n"
     ]
    },
    {
     "name": "stdout",
     "output_type": "stream",
     "text": [
      "Processing Record 40 of Set 4 | goma\n",
      "Processing Record 41 of Set 4 | cidreira\n",
      "Processing Record 42 of Set 4 | nikolskoye\n",
      "Processing Record 43 of Set 4 | wasilla\n",
      "Processing Record 44 of Set 4 | carutapera\n",
      "Processing Record 45 of Set 4 | butaritari\n",
      "Processing Record 46 of Set 4 | cedar city\n",
      "Processing Record 47 of Set 4 | beringovskiy\n",
      "Processing Record 48 of Set 4 | vila franca do campo\n",
      "Processing Record 49 of Set 4 | nome\n",
      "Processing Record 1 of Set 5 | neiafu\n",
      "City not found. Skipping...\n",
      "Processing Record 2 of Set 5 | vysokogornyy\n",
      "Processing Record 3 of Set 5 | ankang\n",
      "Processing Record 4 of Set 5 | penzance\n",
      "Processing Record 5 of Set 5 | kruisfontein\n",
      "Processing Record 6 of Set 5 | poltavka\n",
      "Processing Record 7 of Set 5 | boueni\n",
      "Processing Record 8 of Set 5 | faanui\n",
      "Processing Record 9 of Set 5 | rincon\n",
      "Processing Record 10 of Set 5 | bambous virieux\n",
      "Processing Record 11 of Set 5 | meulaboh\n",
      "Processing Record 12 of Set 5 | aplahoue\n",
      "Processing Record 13 of Set 5 | nouadhibou\n",
      "Processing Record 14 of Set 5 | puerto baquerizo moreno\n",
      "Processing Record 15 of Set 5 | seoul\n",
      "Processing Record 16 of Set 5 | ilulissat\n",
      "Processing Record 17 of Set 5 | hovd\n",
      "Processing Record 18 of Set 5 | vanavara\n",
      "City not found. Skipping...\n",
      "Processing Record 19 of Set 5 | diapaga\n",
      "Processing Record 20 of Set 5 | isangel\n",
      "Processing Record 21 of Set 5 | chokurdakh\n",
      "City not found. Skipping...\n",
      "Processing Record 22 of Set 5 | luderitz\n",
      "Processing Record 23 of Set 5 | nakodar\n",
      "Processing Record 24 of Set 5 | dabola\n",
      "Processing Record 25 of Set 5 | kinablangan\n",
      "Processing Record 26 of Set 5 | jiuquan\n",
      "Processing Record 27 of Set 5 | mitu\n",
      "Processing Record 28 of Set 5 | hommelvik\n",
      "City not found. Skipping...\n",
      "Processing Record 29 of Set 5 | khani\n",
      "Processing Record 30 of Set 5 | laje\n",
      "Processing Record 31 of Set 5 | sao filipe\n",
      "Processing Record 32 of Set 5 | scottsbluff\n",
      "Processing Record 33 of Set 5 | mount isa\n",
      "Processing Record 34 of Set 5 | pemangkat\n",
      "Processing Record 35 of Set 5 | biak\n",
      "Processing Record 36 of Set 5 | leshukonskoye\n",
      "Processing Record 37 of Set 5 | cherskiy\n",
      "City not found. Skipping...\n",
      "Processing Record 38 of Set 5 | port hardy\n",
      "Processing Record 39 of Set 5 | teguldet\n",
      "Processing Record 40 of Set 5 | heze\n",
      "Processing Record 41 of Set 5 | vostok\n",
      "Processing Record 42 of Set 5 | itarema\n",
      "Processing Record 43 of Set 5 | margate\n",
      "Processing Record 44 of Set 5 | brae\n",
      "Processing Record 45 of Set 5 | lata\n",
      "Processing Record 46 of Set 5 | dmitrovsk-orlovskiy\n",
      "Processing Record 47 of Set 5 | kieta\n",
      "City not found. Skipping...\n",
      "Processing Record 48 of Set 5 | cuamba\n",
      "Processing Record 49 of Set 5 | naples\n",
      "Processing Record 1 of Set 6 | saldanha\n",
      "Processing Record 2 of Set 6 | chateauroux\n",
      "City not found. Skipping...\n",
      "Processing Record 3 of Set 6 | victoria\n",
      "Processing Record 4 of Set 6 | narsaq\n",
      "Processing Record 5 of Set 6 | marzuq\n",
      "Processing Record 6 of Set 6 | kjollefjord\n",
      "Processing Record 7 of Set 6 | port hedland\n",
      "Processing Record 8 of Set 6 | komsomolskiy\n",
      "Processing Record 9 of Set 6 | ponta do sol\n",
      "Processing Record 10 of Set 6 | ukiah\n",
      "Processing Record 11 of Set 6 | sibolga\n",
      "Processing Record 12 of Set 6 | methoni\n",
      "Processing Record 13 of Set 6 | tooele\n",
      "Processing Record 14 of Set 6 | dobson\n",
      "Processing Record 15 of Set 6 | turukhansk\n",
      "City not found. Skipping...\n",
      "Processing Record 16 of Set 6 | okhotsk\n",
      "Processing Record 17 of Set 6 | apollonia\n",
      "Processing Record 18 of Set 6 | cayenne\n",
      "Processing Record 19 of Set 6 | taoudenni\n",
      "Processing Record 20 of Set 6 | mogadishu\n",
      "Processing Record 21 of Set 6 | san policarpo\n",
      "Processing Record 22 of Set 6 | catamarca\n",
      "Processing Record 23 of Set 6 | bereda\n",
      "Processing Record 24 of Set 6 | sovetskiy\n",
      "Processing Record 25 of Set 6 | hikari\n",
      "Processing Record 26 of Set 6 | moyobamba\n",
      "Processing Record 27 of Set 6 | castro\n",
      "Processing Record 28 of Set 6 | cockburn town\n",
      "Processing Record 29 of Set 6 | corn island\n",
      "Processing Record 30 of Set 6 | coahuayana\n",
      "Processing Record 31 of Set 6 | hamilton\n",
      "Processing Record 32 of Set 6 | bethel\n",
      "City not found. Skipping...\n",
      "Processing Record 33 of Set 6 | santa fe\n",
      "Processing Record 34 of Set 6 | veraval\n",
      "Processing Record 35 of Set 6 | san patricio\n",
      "City not found. Skipping...\n",
      "Processing Record 36 of Set 6 | sorgun\n",
      "Processing Record 37 of Set 6 | lakatoro\n",
      "Processing Record 38 of Set 6 | gasa\n",
      "Processing Record 39 of Set 6 | arraial do cabo\n",
      "Processing Record 40 of Set 6 | buckingham\n",
      "Processing Record 41 of Set 6 | khilok\n",
      "Processing Record 42 of Set 6 | quchan\n",
      "Processing Record 43 of Set 6 | nago\n",
      "Processing Record 44 of Set 6 | tiksi\n",
      "Processing Record 45 of Set 6 | jurm\n",
      "Processing Record 46 of Set 6 | songjianghe\n",
      "Processing Record 47 of Set 6 | iquique\n",
      "Processing Record 48 of Set 6 | sabha\n",
      "Processing Record 49 of Set 6 | zunyi\n",
      "Processing Record 1 of Set 7 | ancud\n",
      "Processing Record 2 of Set 7 | falam\n",
      "Processing Record 3 of Set 7 | sheksna\n",
      "Processing Record 4 of Set 7 | ranong\n",
      "Processing Record 5 of Set 7 | leeds\n",
      "Processing Record 6 of Set 7 | gayny\n",
      "City not found. Skipping...\n",
      "Processing Record 7 of Set 7 | hami\n",
      "Processing Record 8 of Set 7 | glossa\n",
      "City not found. Skipping...\n",
      "Processing Record 9 of Set 7 | bonavista\n",
      "Processing Record 10 of Set 7 | korla\n",
      "City not found. Skipping...\n",
      "City not found. Skipping...\n",
      "Processing Record 11 of Set 7 | gubkinskiy\n",
      "Processing Record 12 of Set 7 | ahipara\n",
      "Processing Record 13 of Set 7 | vardo\n",
      "Processing Record 14 of Set 7 | zheleznodorozhnyy\n",
      "Processing Record 15 of Set 7 | klaksvik\n",
      "Processing Record 16 of Set 7 | san rafael del sur\n",
      "Processing Record 17 of Set 7 | kijang\n",
      "Processing Record 18 of Set 7 | palaikastron\n",
      "Processing Record 19 of Set 7 | dalbandin\n",
      "Processing Record 20 of Set 7 | sept-iles\n",
      "Processing Record 21 of Set 7 | mount gambier\n",
      "Processing Record 22 of Set 7 | umba\n",
      "City not found. Skipping...\n",
      "Processing Record 23 of Set 7 | ajdabiya\n",
      "Processing Record 24 of Set 7 | heihe\n",
      "Processing Record 25 of Set 7 | cururupu\n",
      "Processing Record 26 of Set 7 | abu dhabi\n",
      "Processing Record 27 of Set 7 | kuloy\n",
      "Processing Record 28 of Set 7 | qazax\n",
      "Processing Record 29 of Set 7 | gimli\n",
      "Processing Record 30 of Set 7 | kocevje\n",
      "Processing Record 31 of Set 7 | adrar\n",
      "Processing Record 32 of Set 7 | avera\n",
      "Processing Record 33 of Set 7 | praia da vitoria\n",
      "Processing Record 34 of Set 7 | nyurba\n",
      "Processing Record 35 of Set 7 | nishihara\n",
      "Processing Record 36 of Set 7 | daru\n",
      "Processing Record 37 of Set 7 | colinas\n",
      "City not found. Skipping...\n",
      "Processing Record 38 of Set 7 | muzhi\n",
      "City not found. Skipping...\n",
      "City not found. Skipping...\n",
      "Processing Record 39 of Set 7 | tezu\n",
      "Processing Record 40 of Set 7 | oktyabrskiy\n",
      "Processing Record 41 of Set 7 | inhambane\n",
      "Processing Record 42 of Set 7 | roseburg\n",
      "Processing Record 43 of Set 7 | mandurah\n",
      "Processing Record 44 of Set 7 | yenagoa\n",
      "Processing Record 45 of Set 7 | warrenton\n",
      "City not found. Skipping...\n",
      "Processing Record 46 of Set 7 | eirunepe\n",
      "Processing Record 47 of Set 7 | petropavlovsk-kamchatskiy\n",
      "Processing Record 48 of Set 7 | marsa matruh\n",
      "Processing Record 49 of Set 7 | lincoln\n",
      "City not found. Skipping...\n",
      "Processing Record 1 of Set 8 | alta\n",
      "Processing Record 2 of Set 8 | salalah\n",
      "City not found. Skipping...\n",
      "Processing Record 3 of Set 8 | lloydminster\n",
      "Processing Record 4 of Set 8 | lahaina\n",
      "Processing Record 5 of Set 8 | suez\n",
      "Processing Record 6 of Set 8 | grants\n",
      "Processing Record 7 of Set 8 | iqaluit\n",
      "Processing Record 8 of Set 8 | loiza\n",
      "Processing Record 9 of Set 8 | guadalupe y calvo\n",
      "Processing Record 10 of Set 8 | chany\n",
      "Processing Record 11 of Set 8 | sambava\n",
      "Processing Record 12 of Set 8 | pula\n",
      "Processing Record 13 of Set 8 | weiser\n",
      "Processing Record 14 of Set 8 | pimentel\n",
      "City not found. Skipping...\n",
      "Processing Record 15 of Set 8 | black diamond\n",
      "City not found. Skipping...\n",
      "Processing Record 16 of Set 8 | bilibino\n",
      "Processing Record 17 of Set 8 | maunatlala\n",
      "Processing Record 18 of Set 8 | jhudo\n",
      "Processing Record 19 of Set 8 | chornobay\n",
      "Processing Record 20 of Set 8 | kachiry\n",
      "Processing Record 21 of Set 8 | imbituba\n",
      "Processing Record 22 of Set 8 | arrecife\n",
      "Processing Record 23 of Set 8 | dingle\n",
      "Processing Record 24 of Set 8 | samarai\n",
      "City not found. Skipping...\n",
      "Processing Record 25 of Set 8 | stranda\n",
      "Processing Record 26 of Set 8 | paita\n",
      "Processing Record 27 of Set 8 | shizunai\n",
      "Processing Record 28 of Set 8 | kaeo\n"
     ]
    },
    {
     "name": "stdout",
     "output_type": "stream",
     "text": [
      "City not found. Skipping...\n",
      "Processing Record 29 of Set 8 | sitka\n",
      "Processing Record 30 of Set 8 | zhigalovo\n",
      "Processing Record 31 of Set 8 | kabompo\n",
      "Processing Record 32 of Set 8 | eyl\n",
      "Processing Record 33 of Set 8 | coihueco\n",
      "Processing Record 34 of Set 8 | dubbo\n",
      "Processing Record 35 of Set 8 | labuhan\n",
      "Processing Record 36 of Set 8 | katsuura\n",
      "Processing Record 37 of Set 8 | gravdal\n",
      "Processing Record 38 of Set 8 | santa isabel do rio negro\n",
      "Processing Record 39 of Set 8 | kalmunai\n",
      "Processing Record 40 of Set 8 | nuristan\n",
      "Processing Record 41 of Set 8 | san cristobal\n",
      "City not found. Skipping...\n",
      "Processing Record 42 of Set 8 | alice springs\n",
      "City not found. Skipping...\n",
      "Processing Record 43 of Set 8 | palm valley\n",
      "Processing Record 44 of Set 8 | elban\n",
      "Processing Record 45 of Set 8 | galesong\n",
      "Processing Record 46 of Set 8 | mount vernon\n",
      "Processing Record 47 of Set 8 | pastavy\n",
      "City not found. Skipping...\n",
      "Processing Record 48 of Set 8 | bahia blanca\n",
      "Processing Record 49 of Set 8 | ban nahin\n",
      "Processing Record 1 of Set 9 | luanda\n",
      "Processing Record 2 of Set 9 | portland\n",
      "City not found. Skipping...\n",
      "City not found. Skipping...\n",
      "City not found. Skipping...\n",
      "Processing Record 3 of Set 9 | taitung\n",
      "Processing Record 4 of Set 9 | malanje\n",
      "Processing Record 5 of Set 9 | torbay\n",
      "Processing Record 6 of Set 9 | manitouwadge\n",
      "Processing Record 7 of Set 9 | abu kamal\n",
      "Processing Record 8 of Set 9 | severo-kurilsk\n",
      "City not found. Skipping...\n",
      "Processing Record 9 of Set 9 | burnie\n",
      "Processing Record 10 of Set 9 | grindavik\n",
      "Processing Record 11 of Set 9 | uige\n",
      "Processing Record 12 of Set 9 | yendi\n",
      "Processing Record 13 of Set 9 | koulikoro\n",
      "Processing Record 14 of Set 9 | muhos\n",
      "Processing Record 15 of Set 9 | ostrovnoy\n",
      "Processing Record 16 of Set 9 | marsh harbour\n",
      "Processing Record 17 of Set 9 | xucheng\n",
      "Processing Record 18 of Set 9 | geraldton\n",
      "Processing Record 19 of Set 9 | kenai\n",
      "Processing Record 20 of Set 9 | idil\n",
      "Processing Record 21 of Set 9 | buraydah\n",
      "Processing Record 22 of Set 9 | yayva\n",
      "Processing Record 23 of Set 9 | tateyama\n",
      "Processing Record 24 of Set 9 | tabou\n",
      "Processing Record 25 of Set 9 | saryagash\n",
      "Processing Record 26 of Set 9 | oranjemund\n",
      "Processing Record 27 of Set 9 | ushtobe\n",
      "Processing Record 28 of Set 9 | kahului\n",
      "Processing Record 29 of Set 9 | lazaro cardenas\n",
      "Processing Record 30 of Set 9 | poronaysk\n",
      "Processing Record 31 of Set 9 | aklavik\n",
      "Processing Record 32 of Set 9 | pervomayskoye\n",
      "City not found. Skipping...\n",
      "City not found. Skipping...\n",
      "Processing Record 33 of Set 9 | ishigaki\n",
      "Processing Record 34 of Set 9 | mazagao\n",
      "Processing Record 35 of Set 9 | balvi\n",
      "Processing Record 36 of Set 9 | necochea\n",
      "Processing Record 37 of Set 9 | obodivka\n",
      "City not found. Skipping...\n",
      "Processing Record 38 of Set 9 | ati\n",
      "Processing Record 39 of Set 9 | antofagasta\n",
      "Processing Record 40 of Set 9 | soloneshnoye\n",
      "Processing Record 41 of Set 9 | sainte-maxime\n",
      "Processing Record 42 of Set 9 | berea\n",
      "Processing Record 43 of Set 9 | krasnyy chikoy\n",
      "Processing Record 44 of Set 9 | zhob\n",
      "Processing Record 45 of Set 9 | foz\n",
      "Processing Record 46 of Set 9 | tarko-sale\n",
      "Processing Record 47 of Set 9 | saint-francois\n",
      "Processing Record 48 of Set 9 | ilhabela\n",
      "Processing Record 49 of Set 9 | san ignacio\n",
      "Processing Record 1 of Set 10 | port blair\n",
      "City not found. Skipping...\n",
      "Processing Record 2 of Set 10 | bloemfontein\n",
      "Processing Record 3 of Set 10 | sao joao da barra\n",
      "Processing Record 4 of Set 10 | charters towers\n",
      "City not found. Skipping...\n",
      "Processing Record 5 of Set 10 | tabuk\n",
      "Processing Record 6 of Set 10 | moron\n",
      "Processing Record 7 of Set 10 | oktyabrskoye\n",
      "Processing Record 8 of Set 10 | hirara\n",
      "Processing Record 9 of Set 10 | havre-saint-pierre\n",
      "Processing Record 10 of Set 10 | roberto payan\n",
      "Processing Record 11 of Set 10 | bastia\n",
      "Processing Record 12 of Set 10 | chor\n",
      "Processing Record 13 of Set 10 | puerto del rosario\n",
      "Processing Record 14 of Set 10 | effingham\n",
      "Processing Record 15 of Set 10 | bonfim\n",
      "Processing Record 16 of Set 10 | port macquarie\n",
      "Processing Record 17 of Set 10 | cam ranh\n",
      "Processing Record 18 of Set 10 | egvekinot\n",
      "Processing Record 19 of Set 10 | sao felix do xingu\n",
      "Processing Record 20 of Set 10 | dillon\n",
      "Processing Record 21 of Set 10 | lulindi\n",
      "Processing Record 22 of Set 10 | camacha\n",
      "Processing Record 23 of Set 10 | corlu\n",
      "Processing Record 24 of Set 10 | barra do bugres\n",
      "Processing Record 25 of Set 10 | yerbogachen\n",
      "Processing Record 26 of Set 10 | mirabad\n",
      "Processing Record 27 of Set 10 | werkendam\n",
      "Processing Record 28 of Set 10 | iracoubo\n",
      "Processing Record 29 of Set 10 | belmonte\n",
      "Processing Record 30 of Set 10 | indramayu\n",
      "Processing Record 31 of Set 10 | aconibe\n",
      "Processing Record 32 of Set 10 | zhezkazgan\n",
      "Processing Record 33 of Set 10 | san quintin\n",
      "Processing Record 34 of Set 10 | pundaguitan\n",
      "Processing Record 35 of Set 10 | ordzhonikidze\n",
      "Processing Record 36 of Set 10 | olinda\n",
      "Processing Record 37 of Set 10 | azanka\n",
      "Processing Record 38 of Set 10 | alta floresta\n",
      "Processing Record 39 of Set 10 | novoagansk\n",
      "Processing Record 40 of Set 10 | urumqi\n",
      "Processing Record 41 of Set 10 | sarkand\n",
      "Processing Record 42 of Set 10 | san jose pinula\n",
      "Processing Record 43 of Set 10 | barcelos\n",
      "Processing Record 44 of Set 10 | dongkan\n",
      "Processing Record 45 of Set 10 | bulgan\n",
      "Processing Record 46 of Set 10 | norman wells\n",
      "Processing Record 47 of Set 10 | altay\n",
      "Processing Record 48 of Set 10 | xuddur\n",
      "Processing Record 49 of Set 10 | parrita\n",
      "Processing Record 1 of Set 11 | pitea\n",
      "Processing Record 2 of Set 11 | poum\n",
      "Processing Record 3 of Set 11 | richards bay\n",
      "Processing Record 4 of Set 11 | praia\n",
      "Processing Record 5 of Set 11 | keflavik\n",
      "Processing Record 6 of Set 11 | tomatlan\n",
      "Processing Record 7 of Set 11 | vikulovo\n",
      "Processing Record 8 of Set 11 | labuan\n",
      "Processing Record 9 of Set 11 | saginaw\n",
      "Processing Record 10 of Set 11 | aykhal\n",
      "City not found. Skipping...\n",
      "Processing Record 11 of Set 11 | ngunguru\n",
      "Processing Record 12 of Set 11 | copacabana\n",
      "Processing Record 13 of Set 11 | santiago\n",
      "Processing Record 14 of Set 11 | north bend\n",
      "Processing Record 15 of Set 11 | tura\n",
      "Processing Record 16 of Set 11 | bathsheba\n",
      "Processing Record 17 of Set 11 | lavrentiya\n",
      "Processing Record 18 of Set 11 | sao jose da coroa grande\n",
      "City not found. Skipping...\n",
      "Processing Record 19 of Set 11 | impfondo\n",
      "Processing Record 20 of Set 11 | semme\n",
      "Processing Record 21 of Set 11 | shubarkuduk\n",
      "Processing Record 22 of Set 11 | kupang\n",
      "Processing Record 23 of Set 11 | paamiut\n",
      "Processing Record 24 of Set 11 | goundam\n",
      "Processing Record 25 of Set 11 | amga\n",
      "Processing Record 26 of Set 11 | marostica\n",
      "Processing Record 27 of Set 11 | zhigansk\n",
      "Processing Record 28 of Set 11 | tawang\n",
      "Processing Record 29 of Set 11 | canon city\n",
      "Processing Record 30 of Set 11 | chulym\n",
      "City not found. Skipping...\n",
      "Processing Record 31 of Set 11 | kathu\n",
      "Processing Record 32 of Set 11 | dondo\n",
      "Processing Record 33 of Set 11 | muroto\n",
      "Processing Record 34 of Set 11 | igede\n",
      "Processing Record 35 of Set 11 | ayagoz\n",
      "City not found. Skipping...\n",
      "Processing Record 36 of Set 11 | goya\n",
      "Processing Record 37 of Set 11 | maryville\n",
      "Processing Record 38 of Set 11 | naze\n",
      "Processing Record 39 of Set 11 | imeni poliny osipenko\n",
      "Processing Record 40 of Set 11 | mattru\n",
      "City not found. Skipping...\n",
      "City not found. Skipping...\n",
      "Processing Record 41 of Set 11 | maneadero\n",
      "Processing Record 42 of Set 11 | peniche\n",
      "Processing Record 43 of Set 11 | apastovo\n",
      "Processing Record 44 of Set 11 | warrnambool\n",
      "Processing Record 45 of Set 11 | qostanay\n",
      "Processing Record 46 of Set 11 | kulebaki\n",
      "Processing Record 47 of Set 11 | terrace\n",
      "Processing Record 48 of Set 11 | mulege\n",
      "Processing Record 49 of Set 11 | kholodnyy\n",
      "------------------------------\n",
      "Data Retrieval Complete\n",
      "------------------------------\n"
     ]
    }
   ],
   "source": [
    "# set lists for the dataframe\n",
    "city_two = []\n",
    "cloudinesses = []\n",
    "dates = []\n",
    "humidities = []\n",
    "lats = []\n",
    "lngs = []\n",
    "max_temps = []\n",
    "wind_speeds = []\n",
    "countries = []\n",
    "temp_units = \"imperial\"\n",
    "# define url\n",
    "query_url = f\"http://api.openweathermap.org/data/2.5/weather?appid={weather_api_key}&units={temp_units}&q=\"\n",
    "\n",
    "# set initial count quantities for organization\n",
    "count_one = 0\n",
    "set_one = 1\n",
    "\n",
    "# loops for creating dataframe columns\n",
    "for city in cities:\n",
    "    try:\n",
    "        response = requests.get(query_url + city.replace(\" \",\"&\")).json()\n",
    "        cloudinesses.append(response['clouds']['all'])\n",
    "        countries.append(response['sys']['country'])\n",
    "        dates.append(response['dt'])\n",
    "        humidities.append(response['main']['humidity'])\n",
    "        lats.append(response['coord']['lat'])\n",
    "        lngs.append(response['coord']['lon'])\n",
    "        max_temps.append(response['main']['temp_max'])\n",
    "        wind_speeds.append(response['wind']['speed'])\n",
    "        if count_one > 48:\n",
    "            count_one = 1\n",
    "            set_one += 1\n",
    "            city_two.append(city)\n",
    "        else:\n",
    "            count_one += 1\n",
    "            city_two.append(city)\n",
    "        print(f\"Processing Record {count_one} of Set {set_one} | {city}\")\n",
    "    except Exception:\n",
    "        print(\"City not found. Skipping...\")\n",
    "print(\"------------------------------\\nData Retrieval Complete\\n------------------------------\")"
   ]
  },
  {
   "cell_type": "code",
   "execution_count": 4,
   "metadata": {},
   "outputs": [
    {
     "name": "stdout",
     "output_type": "stream",
     "text": [
      "539 539 539 539 539 539 539 539 539\n"
     ]
    }
   ],
   "source": [
    "#cloudinesses.pop(539)\n",
    "print(len(wind_speeds),len(city_two),len(cloudinesses),len(countries),len(dates),len(humidities),len(lats),len(lngs),len(max_temps))\n"
   ]
  },
  {
   "cell_type": "markdown",
   "metadata": {},
   "source": [
    "### Convert Raw Data to DataFrame\n",
    "* Export the city data into a .csv.\n",
    "* Display the DataFrame"
   ]
  },
  {
   "cell_type": "code",
   "execution_count": 5,
   "metadata": {},
   "outputs": [
    {
     "data": {
      "text/html": [
       "<div>\n",
       "<style scoped>\n",
       "    .dataframe tbody tr th:only-of-type {\n",
       "        vertical-align: middle;\n",
       "    }\n",
       "\n",
       "    .dataframe tbody tr th {\n",
       "        vertical-align: top;\n",
       "    }\n",
       "\n",
       "    .dataframe thead th {\n",
       "        text-align: right;\n",
       "    }\n",
       "</style>\n",
       "<table border=\"1\" class=\"dataframe\">\n",
       "  <thead>\n",
       "    <tr style=\"text-align: right;\">\n",
       "      <th></th>\n",
       "      <th>City</th>\n",
       "      <th>Cloudiness</th>\n",
       "      <th>Country</th>\n",
       "      <th>Date</th>\n",
       "      <th>Humidity</th>\n",
       "      <th>Lat</th>\n",
       "      <th>Lng</th>\n",
       "      <th>Max Temp</th>\n",
       "      <th>Wind Speed</th>\n",
       "    </tr>\n",
       "  </thead>\n",
       "  <tbody>\n",
       "    <tr>\n",
       "      <th>0</th>\n",
       "      <td>touros</td>\n",
       "      <td>0</td>\n",
       "      <td>BR</td>\n",
       "      <td>1624754136</td>\n",
       "      <td>73</td>\n",
       "      <td>-5.1989</td>\n",
       "      <td>-35.4608</td>\n",
       "      <td>77.00</td>\n",
       "      <td>5.75</td>\n",
       "    </tr>\n",
       "    <tr>\n",
       "      <th>1</th>\n",
       "      <td>hambantota</td>\n",
       "      <td>20</td>\n",
       "      <td>LK</td>\n",
       "      <td>1624754137</td>\n",
       "      <td>100</td>\n",
       "      <td>6.1241</td>\n",
       "      <td>81.1185</td>\n",
       "      <td>75.54</td>\n",
       "      <td>5.75</td>\n",
       "    </tr>\n",
       "    <tr>\n",
       "      <th>2</th>\n",
       "      <td>berlevag</td>\n",
       "      <td>100</td>\n",
       "      <td>NO</td>\n",
       "      <td>1624754137</td>\n",
       "      <td>93</td>\n",
       "      <td>70.8578</td>\n",
       "      <td>29.0864</td>\n",
       "      <td>46.40</td>\n",
       "      <td>7.85</td>\n",
       "    </tr>\n",
       "    <tr>\n",
       "      <th>3</th>\n",
       "      <td>acajutla</td>\n",
       "      <td>100</td>\n",
       "      <td>SV</td>\n",
       "      <td>1624754138</td>\n",
       "      <td>79</td>\n",
       "      <td>13.5928</td>\n",
       "      <td>-89.8275</td>\n",
       "      <td>81.81</td>\n",
       "      <td>1.88</td>\n",
       "    </tr>\n",
       "    <tr>\n",
       "      <th>4</th>\n",
       "      <td>port alfred</td>\n",
       "      <td>5</td>\n",
       "      <td>CD</td>\n",
       "      <td>1624754139</td>\n",
       "      <td>49</td>\n",
       "      <td>-7.0349</td>\n",
       "      <td>29.7638</td>\n",
       "      <td>69.85</td>\n",
       "      <td>4.59</td>\n",
       "    </tr>\n",
       "  </tbody>\n",
       "</table>\n",
       "</div>"
      ],
      "text/plain": [
       "          City  Cloudiness Country        Date  Humidity      Lat      Lng  \\\n",
       "0       touros           0      BR  1624754136        73  -5.1989 -35.4608   \n",
       "1   hambantota          20      LK  1624754137       100   6.1241  81.1185   \n",
       "2     berlevag         100      NO  1624754137        93  70.8578  29.0864   \n",
       "3     acajutla         100      SV  1624754138        79  13.5928 -89.8275   \n",
       "4  port alfred           5      CD  1624754139        49  -7.0349  29.7638   \n",
       "\n",
       "   Max Temp  Wind Speed  \n",
       "0     77.00        5.75  \n",
       "1     75.54        5.75  \n",
       "2     46.40        7.85  \n",
       "3     81.81        1.88  \n",
       "4     69.85        4.59  "
      ]
     },
     "execution_count": 5,
     "metadata": {},
     "output_type": "execute_result"
    }
   ],
   "source": [
    "# create a dictionary for establishing dataframe\n",
    "weather_dict = {\n",
    "    \"City\":city_two,\n",
    "    \"Cloudiness\":cloudinesses,\n",
    "    \"Country\":countries,\n",
    "    \"Date\":dates,\n",
    "    \"Humidity\":humidities,\n",
    "    \"Lat\":lats,\n",
    "    \"Lng\":lngs,\n",
    "    \"Max Temp\":max_temps,\n",
    "    \"Wind Speed\":wind_speeds,\n",
    "}\n",
    "weather_dataframe = pd.DataFrame(weather_dict)\n",
    "weather_dataframe.to_csv(output_data_file)\n",
    "weather_dataframe.head()"
   ]
  },
  {
   "cell_type": "code",
   "execution_count": 32,
   "metadata": {},
   "outputs": [
    {
     "data": {
      "text/html": [
       "<div>\n",
       "<style scoped>\n",
       "    .dataframe tbody tr th:only-of-type {\n",
       "        vertical-align: middle;\n",
       "    }\n",
       "\n",
       "    .dataframe tbody tr th {\n",
       "        vertical-align: top;\n",
       "    }\n",
       "\n",
       "    .dataframe thead th {\n",
       "        text-align: right;\n",
       "    }\n",
       "</style>\n",
       "<table border=\"1\" class=\"dataframe\">\n",
       "  <thead>\n",
       "    <tr style=\"text-align: right;\">\n",
       "      <th></th>\n",
       "      <th>Cloudiness</th>\n",
       "      <th>Date</th>\n",
       "      <th>Humidity</th>\n",
       "      <th>Lat</th>\n",
       "      <th>Lng</th>\n",
       "      <th>Max Temp</th>\n",
       "      <th>Wind Speed</th>\n",
       "    </tr>\n",
       "  </thead>\n",
       "  <tbody>\n",
       "    <tr>\n",
       "      <th>count</th>\n",
       "      <td>539.000000</td>\n",
       "      <td>5.390000e+02</td>\n",
       "      <td>539.000000</td>\n",
       "      <td>539.000000</td>\n",
       "      <td>539.000000</td>\n",
       "      <td>539.000000</td>\n",
       "      <td>539.000000</td>\n",
       "    </tr>\n",
       "    <tr>\n",
       "      <th>mean</th>\n",
       "      <td>57.951763</td>\n",
       "      <td>1.624092e+09</td>\n",
       "      <td>66.282004</td>\n",
       "      <td>22.887210</td>\n",
       "      <td>24.571030</td>\n",
       "      <td>70.929054</td>\n",
       "      <td>8.159814</td>\n",
       "    </tr>\n",
       "    <tr>\n",
       "      <th>std</th>\n",
       "      <td>38.937151</td>\n",
       "      <td>1.369332e+02</td>\n",
       "      <td>23.695918</td>\n",
       "      <td>32.270604</td>\n",
       "      <td>86.413688</td>\n",
       "      <td>15.167177</td>\n",
       "      <td>5.594160</td>\n",
       "    </tr>\n",
       "    <tr>\n",
       "      <th>min</th>\n",
       "      <td>0.000000</td>\n",
       "      <td>1.624091e+09</td>\n",
       "      <td>4.000000</td>\n",
       "      <td>-54.800000</td>\n",
       "      <td>-179.166700</td>\n",
       "      <td>28.350000</td>\n",
       "      <td>0.000000</td>\n",
       "    </tr>\n",
       "    <tr>\n",
       "      <th>25%</th>\n",
       "      <td>19.000000</td>\n",
       "      <td>1.624091e+09</td>\n",
       "      <td>50.000000</td>\n",
       "      <td>-3.541700</td>\n",
       "      <td>-40.367250</td>\n",
       "      <td>61.015000</td>\n",
       "      <td>3.790000</td>\n",
       "    </tr>\n",
       "    <tr>\n",
       "      <th>50%</th>\n",
       "      <td>74.000000</td>\n",
       "      <td>1.624092e+09</td>\n",
       "      <td>72.000000</td>\n",
       "      <td>28.366700</td>\n",
       "      <td>25.566700</td>\n",
       "      <td>73.510000</td>\n",
       "      <td>6.910000</td>\n",
       "    </tr>\n",
       "    <tr>\n",
       "      <th>75%</th>\n",
       "      <td>98.000000</td>\n",
       "      <td>1.624092e+09</td>\n",
       "      <td>86.000000</td>\n",
       "      <td>48.760050</td>\n",
       "      <td>100.393550</td>\n",
       "      <td>81.680000</td>\n",
       "      <td>11.610000</td>\n",
       "    </tr>\n",
       "    <tr>\n",
       "      <th>max</th>\n",
       "      <td>100.000000</td>\n",
       "      <td>1.624092e+09</td>\n",
       "      <td>100.000000</td>\n",
       "      <td>78.218600</td>\n",
       "      <td>178.416700</td>\n",
       "      <td>112.480000</td>\n",
       "      <td>34.520000</td>\n",
       "    </tr>\n",
       "  </tbody>\n",
       "</table>\n",
       "</div>"
      ],
      "text/plain": [
       "       Cloudiness          Date    Humidity         Lat         Lng  \\\n",
       "count  539.000000  5.390000e+02  539.000000  539.000000  539.000000   \n",
       "mean    57.951763  1.624092e+09   66.282004   22.887210   24.571030   \n",
       "std     38.937151  1.369332e+02   23.695918   32.270604   86.413688   \n",
       "min      0.000000  1.624091e+09    4.000000  -54.800000 -179.166700   \n",
       "25%     19.000000  1.624091e+09   50.000000   -3.541700  -40.367250   \n",
       "50%     74.000000  1.624092e+09   72.000000   28.366700   25.566700   \n",
       "75%     98.000000  1.624092e+09   86.000000   48.760050  100.393550   \n",
       "max    100.000000  1.624092e+09  100.000000   78.218600  178.416700   \n",
       "\n",
       "         Max Temp  Wind Speed  \n",
       "count  539.000000  539.000000  \n",
       "mean    70.929054    8.159814  \n",
       "std     15.167177    5.594160  \n",
       "min     28.350000    0.000000  \n",
       "25%     61.015000    3.790000  \n",
       "50%     73.510000    6.910000  \n",
       "75%     81.680000   11.610000  \n",
       "max    112.480000   34.520000  "
      ]
     },
     "execution_count": 32,
     "metadata": {},
     "output_type": "execute_result"
    }
   ],
   "source": [
    "weather_dataframe.describe()"
   ]
  },
  {
   "cell_type": "markdown",
   "metadata": {},
   "source": [
    "## Inspect the data and remove the cities where the humidity > 100%.\n",
    "----\n",
    "Skip this step if there are no cities that have humidity > 100%. "
   ]
  },
  {
   "cell_type": "markdown",
   "metadata": {},
   "source": [
    "## Plotting the Data\n",
    "* Use proper labeling of the plots using plot titles (including date of analysis) and axes labels.\n",
    "* Save the plotted figures as .pngs."
   ]
  },
  {
   "cell_type": "markdown",
   "metadata": {},
   "source": [
    "## Latitude vs. Temperature Plot"
   ]
  },
  {
   "cell_type": "code",
   "execution_count": 38,
   "metadata": {
    "scrolled": true
   },
   "outputs": [
    {
     "data": {
      "image/png": "[encoded data removed]",
      "text/plain": [
       "<Figure size 432x288 with 1 Axes>"
      ]
     },
     "metadata": {
      "needs_background": "light"
     },
     "output_type": "display_data"
    }
   ],
   "source": [
    "plt.scatter(weather_dataframe[\"Lat\"],weather_dataframe[\"Max Temp\"],edgecolors=\"black\",facecolors=\"lightblue\")\n",
    "plt.title(\"Latitude vs. Max Temperature (2021-06-19)\")\n",
    "plt.xlabel(\"Latitude\")\n",
    "plt.ylabel(\"Max Temperature (F)\")\n",
    "plt.grid (b=True,which=\"major\",axis=\"both\",linestyle=\"-\",color=\"lightgrey\")\n",
    "plt.savefig(\"output_data/figure1.png\")\n",
    "plt.show()"
   ]
  },
  {
   "cell_type": "markdown",
   "metadata": {},
   "source": [
    "## Latitude vs. Humidity Plot"
   ]
  },
  {
   "cell_type": "code",
   "execution_count": 40,
   "metadata": {},
   "outputs": [
    {
     "data": {
      "image/png": "[encoded data removed]",
      "text/plain": [
       "<Figure size 432x288 with 1 Axes>"
      ]
     },
     "metadata": {
      "needs_background": "light"
     },
     "output_type": "display_data"
    }
   ],
   "source": [
    "plt.scatter(weather_dataframe[\"Lat\"],weather_dataframe[\"Humidity\"],edgecolors=\"black\",facecolors=\"lightblue\")\n",
    "plt.title(\"Latitude vs. Humidity (2021-06-19)\")\n",
    "plt.xlabel(\"Latitude\")\n",
    "plt.ylabel(\"Humidity (%)\")\n",
    "plt.ylim(15,105)\n",
    "plt.grid (b=True,which=\"major\",axis=\"both\",linestyle=\"-\",color=\"lightgrey\")\n",
    "plt.savefig(\"output_data/figure2.png\")\n",
    "plt.show()"
   ]
  },
  {
   "cell_type": "markdown",
   "metadata": {},
   "source": [
    "## Latitude vs. Cloudiness Plot"
   ]
  },
  {
   "cell_type": "code",
   "execution_count": 41,
   "metadata": {},
   "outputs": [
    {
     "data": {
      "image/png": "[encoded data removed]",
      "text/plain": [
       "<Figure size 432x288 with 1 Axes>"
      ]
     },
     "metadata": {
      "needs_background": "light"
     },
     "output_type": "display_data"
    }
   ],
   "source": [
    "plt.scatter(weather_dataframe[\"Lat\"],weather_dataframe[\"Cloudiness\"],edgecolors=\"black\",facecolors=\"lightblue\")\n",
    "plt.title(\"Latitude vs. Cloudiness (2021-06-19)\")\n",
    "plt.xlabel(\"Latitude\")\n",
    "plt.ylabel(\"Cloudiness (%)\")\n",
    "plt.grid (b=True,which=\"major\",axis=\"both\",linestyle=\"-\",color=\"lightgrey\")\n",
    "plt.savefig(\"output_data/figure3.png\")\n",
    "plt.show()"
   ]
  },
  {
   "cell_type": "markdown",
   "metadata": {},
   "source": [
    "## Latitude vs. Wind Speed Plot"
   ]
  },
  {
   "cell_type": "code",
   "execution_count": 42,
   "metadata": {},
   "outputs": [
    {
     "data": {
      "image/png": "[encoded data removed]",
      "text/plain": [
       "<Figure size 432x288 with 1 Axes>"
      ]
     },
     "metadata": {
      "needs_background": "light"
     },
     "output_type": "display_data"
    }
   ],
   "source": [
    "plt.scatter(weather_dataframe[\"Lat\"],weather_dataframe[\"Wind Speed\"],edgecolors=\"black\",facecolors=\"lightblue\")\n",
    "plt.title(\"Latitude vs. Wind Speed (2021-06-19)\")\n",
    "plt.xlabel(\"Latitude\")\n",
    "plt.ylabel(\"Wind Speed (mph)\")\n",
    "plt.ylim(-2,34)\n",
    "plt.grid (b=True,which=\"major\",axis=\"both\",linestyle=\"-\",color=\"lightgrey\")\n",
    "plt.savefig(\"output_data/figure4.png\")\n",
    "plt.show()"
   ]
  },
  {
   "cell_type": "markdown",
   "metadata": {},
   "source": [
    "## Linear Regression"
   ]
  },
  {
   "cell_type": "code",
   "execution_count": 44,
   "metadata": {},
   "outputs": [],
   "source": [
    "northern_hemisphere = weather_dataframe.loc[weather_dataframe[\"Lat\"] >= 0]\n",
    "\n",
    "southern_hemisphere = weather_dataframe.loc[weather_dataframe[\"Lat\"] < 0]\n"
   ]
  },
  {
   "cell_type": "markdown",
   "metadata": {},
   "source": [
    "####  Northern Hemisphere - Max Temp vs. Latitude Linear Regression"
   ]
  },
  {
   "cell_type": "code",
   "execution_count": 64,
   "metadata": {},
   "outputs": [
    {
     "name": "stdout",
     "output_type": "stream",
     "text": [
      "y = -0.5x + 92.14\n",
      "The r-value is: 0.41276824104700743\n"
     ]
    },
    {
     "data": {
      "image/png": "[encoded data removed]",
      "text/plain": [
       "<Figure size 432x288 with 1 Axes>"
      ]
     },
     "metadata": {
      "needs_background": "light"
     },
     "output_type": "display_data"
    }
   ],
   "source": [
    "x_values = northern_hemisphere['Lat'].astype('float')\n",
    "y_values = northern_hemisphere['Max Temp'].astype('float')\n",
    "\n",
    "# Run linear regression\n",
    "(slope, intercept, rvalue, pvalue, stderr) = linregress(x_values, y_values)\n",
    "regress_values = x_values * slope + intercept\n",
    "line_eq = \"y = \" + str(round(slope,2)) + \"x + \" + str(round(intercept,2))\n",
    "\n",
    "# Plot scatter plot\n",
    "plt.scatter(x_values,y_values)\n",
    "\n",
    "# Plot regression line\n",
    "plt.annotate(line_eq,(0,40),fontsize=15,color=\"red\")\n",
    "plt.plot(x_values,regress_values,\"r-\")\n",
    "\n",
    "# Label plot\n",
    "plt.xlabel('Latitude')\n",
    "plt.ylabel('Max Temp')\n",
    "\n",
    "# Print r square value\n",
    "print(line_eq)\n",
    "print(f\"The r-value is: {rvalue**2}\")\n",
    "\n",
    "# Show plot\n",
    "plt.show()"
   ]
  },
  {
   "cell_type": "markdown",
   "metadata": {},
   "source": []
  },
  {
   "cell_type": "markdown",
   "metadata": {},
   "source": [
    "####  Southern Hemisphere - Max Temp vs. Latitude Linear Regression"
   ]
  },
  {
   "cell_type": "code",
   "execution_count": 62,
   "metadata": {},
   "outputs": [
    {
     "name": "stdout",
     "output_type": "stream",
     "text": [
      "y = 0.82x + 83.29\n",
      "The r-value is: 0.655316001890107\n"
     ]
    },
    {
     "data": {
      "image/png": "[encoded data removed]",
      "text/plain": [
       "<Figure size 432x288 with 1 Axes>"
      ]
     },
     "metadata": {
      "needs_background": "light"
     },
     "output_type": "display_data"
    }
   ],
   "source": [
    "x_values = southern_hemisphere['Lat'].astype('float')\n",
    "y_values = southern_hemisphere['Max Temp'].astype('float')\n",
    "\n",
    "# Run linear regression\n",
    "(slope, intercept, rvalue, pvalue, stderr) = linregress(x_values, y_values)\n",
    "regress_values = x_values * slope + intercept\n",
    "line_eq = \"y = \" + str(round(slope,2)) + \"x + \" + str(round(intercept,2))\n",
    "\n",
    "# Plot scatter plot\n",
    "plt.scatter(x_values,y_values)\n",
    "\n",
    "# Plot regression line\n",
    "plt.annotate(line_eq,(-50,80),fontsize=15,color=\"red\")\n",
    "plt.plot(x_values,regress_values,\"r-\")\n",
    "\n",
    "# Label plot\n",
    "plt.xlabel('Latitude')\n",
    "plt.ylabel('Max Temp')\n",
    "\n",
    "# Print r square value\n",
    "print(line_eq)\n",
    "print(f\"The r-value is: {rvalue**2}\")\n",
    "\n",
    "# Show plot\n",
    "plt.show()"
   ]
  },
  {
   "cell_type": "markdown",
   "metadata": {},
   "source": [
    "####  Northern Hemisphere - Humidity (%) vs. Latitude Linear Regression"
   ]
  },
  {
   "cell_type": "code",
   "execution_count": 59,
   "metadata": {},
   "outputs": [
    {
     "name": "stdout",
     "output_type": "stream",
     "text": [
      "y = 0.0x + 64.07\n",
      "The r-value is: 1.750632713747124e-06\n"
     ]
    },
    {
     "data": {
      "image/png": "[encoded data removed]",
      "text/plain": [
       "<Figure size 432x288 with 1 Axes>"
      ]
     },
     "metadata": {
      "needs_background": "light"
     },
     "output_type": "display_data"
    }
   ],
   "source": [
    "x_values = northern_hemisphere['Lat'].astype('float')\n",
    "y_values = northern_hemisphere['Humidity'].astype('float')\n",
    "\n",
    "# Run linear regression\n",
    "(slope, intercept, rvalue, pvalue, stderr) = linregress(x_values, y_values)\n",
    "regress_values = x_values * slope + intercept\n",
    "line_eq = \"y = \" + str(round(slope,2)) + \"x + \" + str(round(intercept,2))\n",
    "\n",
    "# Plot scatter plot\n",
    "plt.scatter(x_values,y_values)\n",
    "\n",
    "# Plot regression line\n",
    "plt.annotate(line_eq,(6,10),fontsize=15,color=\"red\")\n",
    "plt.plot(x_values,regress_values,\"r-\")\n",
    "\n",
    "# Label plot\n",
    "plt.xlabel('Latitude')\n",
    "plt.ylabel('Humidity')\n",
    "\n",
    "# Print r square value\n",
    "print(line_eq)\n",
    "print(f\"The r-value is: {rvalue**2}\")\n",
    "\n",
    "# Show plot\n",
    "plt.show()"
   ]
  },
  {
   "cell_type": "markdown",
   "metadata": {},
   "source": [
    "####  Southern Hemisphere - Humidity (%) vs. Latitude Linear Regression"
   ]
  },
  {
   "cell_type": "code",
   "execution_count": 68,
   "metadata": {},
   "outputs": [
    {
     "name": "stdout",
     "output_type": "stream",
     "text": [
      "y = -0.15x + 68.87\n",
      "The r-value is: 0.00935481168596339\n"
     ]
    },
    {
     "data": {
      "image/png": "[encoded data removed]",
      "text/plain": [
       "<Figure size 432x288 with 1 Axes>"
      ]
     },
     "metadata": {
      "needs_background": "light"
     },
     "output_type": "display_data"
    }
   ],
   "source": [
    "x_values = southern_hemisphere['Lat'].astype('float')\n",
    "y_values = southern_hemisphere['Humidity'].astype('float')\n",
    "\n",
    "# Run linear regression\n",
    "(slope, intercept, rvalue, pvalue, stderr) = linregress(x_values, y_values)\n",
    "regress_values = x_values * slope + intercept\n",
    "line_eq = \"y = \" + str(round(slope,2)) + \"x + \" + str(round(intercept,2))\n",
    "\n",
    "# Plot scatter plot\n",
    "plt.scatter(x_values,y_values)\n",
    "\n",
    "# Plot regression line\n",
    "plt.annotate(line_eq,(-50,30),fontsize=15,color=\"red\")\n",
    "plt.plot(x_values,regress_values,\"r-\")\n",
    "\n",
    "# Label plot\n",
    "plt.xlabel('Latitude')\n",
    "plt.ylabel('Humidity')\n",
    "\n",
    "# Print r square value\n",
    "print(line_eq)\n",
    "print(f\"The r-value is: {rvalue**2}\")\n",
    "\n",
    "# Show plot\n",
    "plt.show()"
   ]
  },
  {
   "cell_type": "markdown",
   "metadata": {},
   "source": [
    "####  Northern Hemisphere - Cloudiness (%) vs. Latitude Linear Regression"
   ]
  },
  {
   "cell_type": "code",
   "execution_count": 65,
   "metadata": {},
   "outputs": [
    {
     "name": "stdout",
     "output_type": "stream",
     "text": [
      "y = 0.06x + 56.1\n",
      "The r-value is: 0.0008218781805455057\n"
     ]
    },
    {
     "data": {
      "image/png": "[encoded data removed]",
      "text/plain": [
       "<Figure size 432x288 with 1 Axes>"
      ]
     },
     "metadata": {
      "needs_background": "light"
     },
     "output_type": "display_data"
    }
   ],
   "source": [
    "x_values = northern_hemisphere['Lat'].astype('float')\n",
    "y_values = northern_hemisphere['Cloudiness'].astype('float')\n",
    "\n",
    "# Run linear regression\n",
    "(slope, intercept, rvalue, pvalue, stderr) = linregress(x_values, y_values)\n",
    "regress_values = x_values * slope + intercept\n",
    "line_eq = \"y = \" + str(round(slope,2)) + \"x + \" + str(round(intercept,2))\n",
    "\n",
    "# Plot scatter plot\n",
    "plt.scatter(x_values,y_values)\n",
    "\n",
    "# Plot regression line\n",
    "plt.annotate(line_eq,(6,10),fontsize=15,color=\"red\")\n",
    "plt.plot(x_values,regress_values,\"r-\")\n",
    "\n",
    "# Label plot\n",
    "plt.xlabel('Latitude')\n",
    "plt.ylabel('Cloudiness')\n",
    "\n",
    "# Print r square value\n",
    "print(line_eq)\n",
    "print(f\"The r-value is: {rvalue**2}\")\n",
    "\n",
    "# Show plot\n",
    "plt.show()"
   ]
  },
  {
   "cell_type": "markdown",
   "metadata": {},
   "source": [
    "####  Southern Hemisphere - Cloudiness (%) vs. Latitude Linear Regression"
   ]
  },
  {
   "cell_type": "code",
   "execution_count": 70,
   "metadata": {},
   "outputs": [
    {
     "name": "stdout",
     "output_type": "stream",
     "text": [
      "y = -0.04x + 56.32\n",
      "The r-value is: 0.00015744752020677968\n"
     ]
    },
    {
     "data": {
      "image/png": "[encoded data removed]",
      "text/plain": [
       "<Figure size 432x288 with 1 Axes>"
      ]
     },
     "metadata": {
      "needs_background": "light"
     },
     "output_type": "display_data"
    }
   ],
   "source": [
    "x_values = southern_hemisphere['Lat'].astype('float')\n",
    "y_values = southern_hemisphere['Cloudiness'].astype('float')\n",
    "\n",
    "# Run linear regression\n",
    "(slope, intercept, rvalue, pvalue, stderr) = linregress(x_values, y_values)\n",
    "regress_values = x_values * slope + intercept\n",
    "line_eq = \"y = \" + str(round(slope,2)) + \"x + \" + str(round(intercept,2))\n",
    "\n",
    "# Plot scatter plot\n",
    "plt.scatter(x_values,y_values)\n",
    "\n",
    "# Plot regression line\n",
    "plt.annotate(line_eq,(-50,30),fontsize=15,color=\"red\")\n",
    "plt.plot(x_values,regress_values,\"r-\")\n",
    "\n",
    "# Label plot\n",
    "plt.xlabel('Latitude')\n",
    "plt.ylabel('Cloudiness')\n",
    "\n",
    "# Print r square value\n",
    "print(line_eq)\n",
    "print(f\"The r-value is: {rvalue**2}\")\n",
    "\n",
    "# Show plot\n",
    "plt.show()"
   ]
  },
  {
   "cell_type": "markdown",
   "metadata": {},
   "source": [
    "####  Northern Hemisphere - Wind Speed (mph) vs. Latitude Linear Regression"
   ]
  },
  {
   "cell_type": "code",
   "execution_count": 66,
   "metadata": {},
   "outputs": [
    {
     "name": "stdout",
     "output_type": "stream",
     "text": [
      "y = -0.02x + 9.01\n",
      "The r-value is: 0.005487536805844332\n"
     ]
    },
    {
     "data": {
      "image/png": "[encoded data removed]",
      "text/plain": [
       "<Figure size 432x288 with 1 Axes>"
      ]
     },
     "metadata": {
      "needs_background": "light"
     },
     "output_type": "display_data"
    }
   ],
   "source": [
    "x_values = northern_hemisphere['Lat'].astype('float')\n",
    "y_values = northern_hemisphere['Wind Speed'].astype('float')\n",
    "\n",
    "# Run linear regression\n",
    "(slope, intercept, rvalue, pvalue, stderr) = linregress(x_values, y_values)\n",
    "regress_values = x_values * slope + intercept\n",
    "line_eq = \"y = \" + str(round(slope,2)) + \"x + \" + str(round(intercept,2))\n",
    "\n",
    "# Plot scatter plot\n",
    "plt.scatter(x_values,y_values)\n",
    "\n",
    "# Plot regression line\n",
    "plt.annotate(line_eq,(6,10),fontsize=15,color=\"red\")\n",
    "plt.plot(x_values,regress_values,\"r-\")\n",
    "\n",
    "# Label plot\n",
    "plt.xlabel('Latitude')\n",
    "plt.ylabel('Wind Speed')\n",
    "\n",
    "# Print r square value\n",
    "print(line_eq)\n",
    "print(f\"The r-value is: {rvalue**2}\")\n",
    "\n",
    "# Show plot\n",
    "plt.show()"
   ]
  },
  {
   "cell_type": "markdown",
   "metadata": {},
   "source": [
    "####  Southern Hemisphere - Wind Speed (mph) vs. Latitude Linear Regression"
   ]
  },
  {
   "cell_type": "code",
   "execution_count": 72,
   "metadata": {},
   "outputs": [
    {
     "name": "stdout",
     "output_type": "stream",
     "text": [
      "y = -0.02x + 7.78\n",
      "The r-value is: 0.0025898173953926226\n"
     ]
    },
    {
     "data": {
      "image/png": "[encoded data removed]",
      "text/plain": [
       "<Figure size 432x288 with 1 Axes>"
      ]
     },
     "metadata": {
      "needs_background": "light"
     },
     "output_type": "display_data"
    }
   ],
   "source": [
    "x_values = southern_hemisphere['Lat'].astype('float')\n",
    "y_values = southern_hemisphere['Wind Speed'].astype('float')\n",
    "\n",
    "# Run linear regression\n",
    "(slope, intercept, rvalue, pvalue, stderr) = linregress(x_values, y_values)\n",
    "regress_values = x_values * slope + intercept\n",
    "line_eq = \"y = \" + str(round(slope,2)) + \"x + \" + str(round(intercept,2))\n",
    "\n",
    "# Plot scatter plot\n",
    "plt.scatter(x_values,y_values)\n",
    "\n",
    "# Plot regression line\n",
    "plt.annotate(line_eq,(-50,10),fontsize=15,color=\"red\")\n",
    "plt.plot(x_values,regress_values,\"r-\")\n",
    "\n",
    "# Label plot\n",
    "plt.xlabel('Latitude')\n",
    "plt.ylabel('Wind Speed')\n",
    "\n",
    "# Print r square value\n",
    "print(line_eq)\n",
    "print(f\"The r-value is: {rvalue**2}\")\n",
    "\n",
    "# Show plot\n",
    "plt.show()"
   ]
  }
 ],
 "metadata": {
  "anaconda-cloud": {},
  "kernel_info": {
   "name": "python3"
  },
  "kernelspec": {
   "display_name": "Python [conda env:root] *",
   "language": "python",
   "name": "conda-root-py"
  },
  "language_info": {
   "codemirror_mode": {
    "name": "ipython",
    "version": 3
   },
   "file_extension": ".py",
   "mimetype": "text/x-python",
   "name": "python",
   "nbconvert_exporter": "python",
   "pygments_lexer": "ipython3",
   "version": "3.8.5"
  },
  "latex_envs": {
   "LaTeX_envs_menu_present": true,
   "autoclose": false,
   "autocomplete": true,
   "bibliofile": "biblio.bib",
   "cite_by": "apalike",
   "current_citInitial": 1,
   "eqLabelWithNumbers": true,
   "eqNumInitial": 1,
   "hotkeys": {
    "equation": "Ctrl-E",
    "itemize": "Ctrl-I"
   },
   "labels_anchors": false,
   "latex_user_defs": false,
   "report_style_numbering": false,
   "user_envs_cfg": false
  },
  "nteract": {
   "version": "0.12.3"
  }
 },
 "nbformat": 4,
 "nbformat_minor": 2
}
